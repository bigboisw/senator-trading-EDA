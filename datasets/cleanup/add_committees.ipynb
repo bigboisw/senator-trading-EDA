{
 "cells": [
  {
   "cell_type": "code",
   "execution_count": 1,
   "id": "6f8fcc6a-55fb-4080-aa36-bcf52bf67b5c",
   "metadata": {},
   "outputs": [],
   "source": [
    "import pandas as pd\n",
    "\n",
    "# Load the CSV file\n",
    "df = pd.read_csv('SenatorCleaned_v1.csv')"
   ]
  },
  {
   "cell_type": "code",
   "execution_count": 2,
   "id": "d4a2dbb1-86ec-48e8-ac42-2896023499d0",
   "metadata": {},
   "outputs": [],
   "source": [
    "legend_text = \"\"\"\n",
    "AG: Agriculture, Nutrition, and Forestry\n",
    "APP: Appropriations\n",
    "ARM: Armed Services\n",
    "BUDG: Budget\n",
    "BAN: Banking, Housing, and Urban Affairs\n",
    "COM: Commerce, Science, and Transportation\n",
    "ENR: Energy and Natural Resources\n",
    "ENV: Environment and Public Works\n",
    "FIN: Finance\n",
    "FORE: Foreign Relations\n",
    "HELP: Health, Education, Labor, and Pensions\n",
    "HOM: Homeland Security and Governmental Affairs\n",
    "IND: Indian Affairs\n",
    "INT: Intelligence\n",
    "JUD: Judiciary\n",
    "RULES: Rules and Administration\n",
    "SBA: Small Business and Entrepreneurship\n",
    "VA: Veterans' Affairs\n",
    "\"\"\""
   ]
  },
  {
   "cell_type": "code",
   "execution_count": 3,
   "id": "0ec4e15c-89cd-48f3-8740-73f235b89c57",
   "metadata": {},
   "outputs": [],
   "source": [
    "lines = legend_text.strip().split('\\n')\n",
    "committees_dict = {}\n",
    "for line in lines:\n",
    "    key, value = line.split(': ')\n",
    "    committees_dict[key] = value"
   ]
  },
  {
   "cell_type": "code",
   "execution_count": 4,
   "id": "b69978cb-ceb1-4885-95a2-3ac2d28c17f4",
   "metadata": {},
   "outputs": [],
   "source": [
    "committees = {\n",
    "    'A. Mitchell McConnell Jr.': {'committees': ('AG', 'APP'), 'party': 'Republican'},\n",
    "    'Angus S King Jr.': {'committees': ('AS', 'ENR'), 'party': 'Independent'},\n",
    "    'Barbara A Mikulski': {'committees': ('APP', 'HELP'), 'party': 'Democrat'},\n",
    "    'Barbara Boxer': {'committees': ('CMT', 'EPW'), 'party': 'Democrat'},\n",
    "    'Benjamin L Cardin': {'committees': ('EPW', 'FIN'), 'party': 'Democrat'},\n",
    "    'Chris Van Hollen': {'committees': ('APP', 'AG'), 'party': 'Democrat'},\n",
    "    'Christopher A Coons': {'committees': ('APP', 'FORE'), 'party': 'Democrat'},\n",
    "    'Claire McCaskill': {'committees': ('HSGA', 'ARMS'), 'party': 'Democrat'},\n",
    "    'Cory A Booker': {'committees': ('JUD', 'ENR'), 'party': 'Democrat'},\n",
    "    'Daniel R Coats': {'committees': ('INT', 'FIN'), 'party': 'Republican'},\n",
    "    'Daniel S Sullivan': {'committees': ('ARM', 'VA'), 'party': 'Republican'},\n",
    "    'David A Perdue Jr': {'committees': ('BUDG', 'AG'), 'party': 'Republican'},\n",
    "    'David B Vitter': {'committees': ('ENV', 'SBA'), 'party': 'Republican'},\n",
    "    'Dean Heller': {'committees': ('FIN', 'BAN'), 'party': 'Republican'},\n",
    "    'Gary C Peters': {'committees': ('HOME', 'COM'), 'party': 'Democrat'},\n",
    "    'Harry Reid': {'committees': ('INT', 'ENV'), 'party': 'Democrat'},\n",
    "    'Heidi Heitkamp': {'committees': ('AG', 'IND'), 'party': 'Democrat'},\n",
    "    'Jacklyn S Rosen': {'committees': ('ARM', 'HOM'), 'party': 'Democrat'},\n",
    "    'James M Inhofe': {'committees': ('ARM', 'ENV'), 'party': 'Republican'},\n",
    "    'Jeanne Shaheen': {'committees': ('FR', 'HOM'), 'party': 'Democrat'},\n",
    "    'Jefferson B Sessions III': {'committees': ('ARM', 'JUD'), 'party': 'Republican'},\n",
    "    'Jeffry L Flake': {'committees': ('JUD', 'ENR'), 'party': 'Republican'},\n",
    "    'Jerry Moran': {'committees': ('ARM', 'VET'), 'party': 'Republican'},\n",
    "    'John A Barrasso': {'committees': ('ENR', 'FORE'), 'party': 'Republican'},\n",
    "    'John Cornyn': {'committees': ('JUD', 'FIN'), 'party': 'Republican'},\n",
    "    'John D Rockefeller IV': {'committees': ('COM', 'FIN'), 'party': 'Democrat'},\n",
    "    'John F Reed': {'committees': ('ARM', 'BUDG'), 'party': 'Democrat'},\n",
    "    'John Hoeven': {'committees': ('AG', 'APP'), 'party': 'Republican'},\n",
    "    'John McCain': {'committees': ('ARM', 'IND'), 'party': 'Republican'},\n",
    "    'John N Kennedy': {'committees': ('APP', 'JUD'), 'party': 'Republican'},\n",
    "    'John W Hickenlooper': {'committees': ('ENR', 'ARM'), 'party': 'Democrat'},\n",
    "    'Jon Kyl': {'committees': ('ARM', 'JUD'), 'party': 'Republican'},\n",
    "    'Joseph Manchin III': {'committees': ('ENR', 'ARM'), 'party': 'Democrat'},\n",
    "    'Joseph S Donnelly': {'committees': ('ARM', 'AG'), 'party': 'Democrat'},\n",
    "    'Kelly Loeffler': {'committees': ('AG', 'HOM'), 'party': 'Republican'},\n",
    "    'Ladda Tammy Duckworth': {'committees': ('ARM', 'ENV'), 'party': 'Democrat'},\n",
    "    'Lamar Alexander': {'committees': ('HELP', 'ENR'), 'party': 'Republican'},\n",
    "    'Luther J Strange III': {'committees': ('JUD', 'ARM'), 'party': 'Republican'},\n",
    "    'Mark Begich': {'committees': ('ENR', 'CMT'), 'party': 'Democrat'},\n",
    "    'Mark E Udall': {'committees': ('ARM', 'ENR'), 'party': 'Democrat'},\n",
    "    'Mark R Warner': {'committees': ('INT', 'BUDG'), 'party': 'Democrat'},\n",
    "    'Maria Cantwell': {'committees': ('COM', 'ENR'), 'party': 'Democrat'},\n",
    "    'Michael B Enzi': {'committees': ('BUDG', 'FIN'), 'party': 'Republican'},\n",
    "    'Michael D Crapo': {'committees': ('FIN', 'ENV'), 'party': 'Republican'},\n",
    "    'Michael F Bennet': {'committees': ('FIN', 'AG'), 'party': 'Democrat'},\n",
    "    'Mike Rounds': {'committees': ('ARM', 'IND'), 'party': 'Republican'},\n",
    "    'Orrin G Hatch': {'committees': ('FIN', 'JUD'), 'party': 'Republican'},\n",
    "    'Pat Roberts': {'committees': ('AG', 'APP'), 'party': 'Republican'},\n",
    "    'Patrick J Toomey': {'committees': ('FIN', 'BUDG'), 'party': 'Republican'},\n",
    "    'Patty Murray': {'committees': ('BUDG', 'HELP'), 'party': 'Democrat'},\n",
    "    'Rafael E Cruz': {'committees': ('JUD', 'ARM'), 'party': 'Republican'},\n",
    "    'Rand Paul': {'committees': ('HOM', 'FORE'), 'party': 'Republican'},\n",
    "    'Rick Scott': {'committees': ('ARM', 'HOM'), 'party': 'Republican'},\n",
    "    'Robert J Portman': {'committees': ('HOM', 'FIN'), 'party': 'Republican'},\n",
    "    'Robert P Casey Jr.': {'committees': ('FIN', 'HELP'), 'party': 'Democrat'},\n",
    "    'Robert P Corker Jr.': {'committees': ('FORE', 'BUDG'), 'party': 'Republican'},\n",
    "    'Roger W Marshall': {'committees': ('AG', 'FIN'), 'party': 'Republican'},\n",
    "    'Ron Johnson': {'committees': ('HOM', 'BUDG'), 'party': 'Republican'},\n",
    "    'Roy Blunt': {'committees': ('HELP', 'RULES'), 'party': 'Republican'},\n",
    "    'Saxby Chambliss': {'committees': ('AG', 'FIN'), 'party': 'Republican'},\n",
    "    'Sheldon Whitehouse': {'committees': ('JUD', 'ENV'), 'party': 'Democrat'},\n",
    "    'Shelley M Capito': {'committees': ('ENV', 'APP'), 'party': 'Republican'},\n",
    "    'Steve Daines': {'committees': ('APP', 'IND'), 'party': 'Republican'},\n",
    "    'Susan M Collins': {'committees': ('APP', 'INT'), 'party': 'Republican'},\n",
    "    'Thad Cochran': {'committees': ('APP', 'AG'), 'party': 'Republican'},\n",
    "    'Thomas H Tuberville': {'committees': ('ARM', 'AG'), 'party': 'Republican'},\n",
    "    'Thomas R Carper': {'committees': ('ENV', 'FIN'), 'party': 'Democrat'},\n",
    "    'Thomas R Tillis': {'committees': ('ARM', 'AG'), 'party': 'Republican'},\n",
    "    'Thomas Udall': {'committees': ('ARM', 'ENV'), 'party': 'Democrat'},\n",
    "    'Tina Smith': {'committees': ('AG', 'HELP'), 'party': 'Democrat'},\n",
    "    'Timothy M Kaine': {'committees': ('FORE', 'ARM'), 'party': 'Democrat'},\n",
    "    'Tom Coburn': {'committees': ('BUDG', 'JUD'), 'party': 'Republican'},\n",
    "    'William Cassidy': {'committees': ('FIN', 'HELP'), 'party': 'Republican'},\n",
    "    'William F Hagerty IV': {'committees': ('ARM', 'BUDG'), 'party': 'Republican'}\n",
    "}"
   ]
  },
  {
   "cell_type": "code",
   "execution_count": 5,
   "id": "5faec003-154c-4e2c-be2e-5351a50c0ba8",
   "metadata": {},
   "outputs": [],
   "source": [
    "def get_committee(senator):\n",
    "    return committees.get(senator.strip())['committees']"
   ]
  },
  {
   "cell_type": "code",
   "execution_count": 6,
   "id": "12ba8896-1439-4cb6-9af8-5ee6cba8fe46",
   "metadata": {},
   "outputs": [],
   "source": [
    "def get_party(senator):\n",
    "    return committees.get(senator.strip())['party']"
   ]
  },
  {
   "cell_type": "code",
   "execution_count": 7,
   "id": "2a039a0c-b8b5-4ece-9edf-fe0b2de0b0bc",
   "metadata": {},
   "outputs": [],
   "source": [
    "df['Committee'] = df['Name'].apply(get_committee)\n",
    "df['Party'] = df['Name'].apply(get_party)"
   ]
  },
  {
   "cell_type": "code",
   "execution_count": 8,
   "id": "988eb04d-2bd7-4d8f-97cb-8639e6b842c8",
   "metadata": {},
   "outputs": [],
   "source": [
    "df.to_csv('SenatorCleaned_v2.csv', index = False)"
   ]
  }
 ],
 "metadata": {
  "kernelspec": {
   "display_name": "Python 3 (ipykernel)",
   "language": "python",
   "name": "python3"
  },
  "language_info": {
   "codemirror_mode": {
    "name": "ipython",
    "version": 3
   },
   "file_extension": ".py",
   "mimetype": "text/x-python",
   "name": "python",
   "nbconvert_exporter": "python",
   "pygments_lexer": "ipython3",
   "version": "3.11.7"
  }
 },
 "nbformat": 4,
 "nbformat_minor": 5
}
