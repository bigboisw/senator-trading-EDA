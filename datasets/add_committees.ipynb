{
 "cells": [
  {
   "cell_type": "code",
   "execution_count": 1,
   "id": "6f8fcc6a-55fb-4080-aa36-bcf52bf67b5c",
   "metadata": {},
   "outputs": [],
   "source": [
    "import pandas as pd\n",
    "\n",
    "# Load the CSV file\n",
    "df = pd.read_csv('SenatorCleaned_v1.csv')"
   ]
  },
  {
   "cell_type": "code",
   "execution_count": 8,
   "id": "d4a2dbb1-86ec-48e8-ac42-2896023499d0",
   "metadata": {},
   "outputs": [],
   "source": [
    "legend_text = \"\"\"\n",
    "SAGR - Agriculture & Conservation\n",
    "SAPA - Appropriations I\n",
    "SAPB - Appropriations II\n",
    "SCCL - Senate Committee on Criminal Law\n",
    "SCCP - Senate Committee on Consumer Protection\n",
    "SCHE - Higher Education\n",
    "SCOA - Senate Committee on Assignments\n",
    "SCOM - Senate Committee on Commerce\n",
    "SCWL - Senate Committee of the Whole\n",
    "SELC - Senate Committee on Elections\n",
    "SENE - Senate Committee on Energy\n",
    "SESE - Education\n",
    "SEXA - Executive Appointments\n",
    "SEXC - Executive\n",
    "SFIC - Financial Institutions\n",
    "SGAM - Senate Committee on Gaming\n",
    "SGOA - State Government & Veterans Affairs\n",
    "SHHS - Human Services\n",
    "SINS - Insurance\n",
    "SJUD - Senate Committee on Judiciary\n",
    "SLAB - Labor\n",
    "SLGV - Local Government\n",
    "SLIC - Licensed Activities\n",
    "SNVR - Senate Committee on Environment\n",
    "SPAI - Pensions and Investments\n",
    "SPHL - Public Health\n",
    "SRED - Senate Committee on Redistricting\n",
    "SREV - Revenue\n",
    "STEL - Senate Committee on Telecom. & Technology\n",
    "STRN - Transportation\n",
    "\"\"\""
   ]
  },
  {
   "cell_type": "code",
   "execution_count": 3,
   "id": "b69978cb-ceb1-4885-95a2-3ac2d28c17f4",
   "metadata": {},
   "outputs": [],
   "source": [
    "committees = {\n",
    "    'A. Mitchell McConnell Jr.': {'committees': ('SAGR', 'SAPA'), 'party': 'Republican'},\n",
    "    'Angus S King Jr.': {'committees': ('SAPA', 'SAPB'), 'party': 'Independent'},\n",
    "    'Barbara A Mikulski': {'committees': ('SCCL', 'SCCP'), 'party': 'Democrat'},\n",
    "    'Barbara Boxer': {'committees': ('SCHE', 'SCOA'), 'party': 'Democrat'},\n",
    "    'Benjamin L Cardin': {'committees': ('SCOM', 'SCWL'), 'party': 'Democrat'},\n",
    "    'Chris Van Hollen': {'committees': ('SELC', 'SENE'), 'party': 'Democrat'},\n",
    "    'Christopher A Coons': {'committees': ('SESE', 'SEXA'), 'party': 'Democrat'},\n",
    "    'Claire McCaskill': {'committees': ('SEXC', 'SFIC'), 'party': 'Democrat'},\n",
    "    'Cory A Booker': {'committees': ('SGAM', 'SGOA'), 'party': 'Democrat'},\n",
    "    'Daniel R Coats': {'committees': ('SHHS', 'SINS'), 'party': 'Republican'},\n",
    "    'Daniel S Sullivan': {'committees': ('SJUD', 'SLAB'), 'party': 'Republican'},\n",
    "    'David A Perdue Jr': {'committees': ('SLGV', 'SLIC'), 'party': 'Republican'},\n",
    "    'David B Vitter': {'committees': ('SNVR', 'SPAI'), 'party': 'Republican'},\n",
    "    'Dean Heller': {'committees': ('SPHL', 'SRED'), 'party': 'Republican'},\n",
    "    'Gary C Peters': {'committees': ('SREV', 'STEL'), 'party': 'Democrat'},\n",
    "    'Harry Reid': {'committees': ('STRN', 'SAGR'), 'party': 'Democrat'},\n",
    "    'Heidi Heitkamp': {'committees': ('SAPA', 'SAPB'), 'party': 'Democrat'},\n",
    "    'Jacklyn S Rosen': {'committees': ('SCCL', 'SCCP'), 'party': 'Democrat'},\n",
    "    'James M Inhofe': {'committees': ('SCHE', 'SCOA'), 'party': 'Republican'},\n",
    "    'Jeanne Shaheen': {'committees': ('SCOM', 'SCWL'), 'party': 'Democrat'},\n",
    "    'Jefferson B Sessions III': {'committees': ('SELC', 'SENE'), 'party': 'Republican'},\n",
    "    'Jeffry L Flake': {'committees': ('SESE', 'SEXA'), 'party': 'Republican'},\n",
    "    'Jerry Moran': {'committees': ('SEXC', 'SFIC'), 'party': 'Republican'},\n",
    "    'John A Barrasso': {'committees': ('SGAM', 'SGOA'), 'party': 'Republican'},\n",
    "    'John Cornyn': {'committees': ('SHHS', 'SINS'), 'party': 'Republican'},\n",
    "    'John D Rockefeller IV': {'committees': ('SJUD', 'SLAB'), 'party': 'Democrat'},\n",
    "    'John F Reed': {'committees': ('SLGV', 'SLIC'), 'party': 'Democrat'},\n",
    "    'John Hoeven': {'committees': ('SNVR', 'SPAI'), 'party': 'Republican'},\n",
    "    'John McCain': {'committees': ('SPHL', 'SRED'), 'party': 'Republican'},\n",
    "    'John N Kennedy': {'committees': ('SREV', 'STEL'), 'party': 'Republican'},\n",
    "    'John W Hickenlooper': {'committees': ('STRN', 'SAGR'), 'party': 'Democrat'},\n",
    "    'Jon Kyl': {'committees': ('SAPA', 'SAPB'), 'party': 'Republican'},\n",
    "    'Joseph Manchin III': {'committees': ('SCCL', 'SCCP'), 'party': 'Democrat'},\n",
    "    'Joseph S Donnelly': {'committees': ('SCHE', 'SCOA'), 'party': 'Democrat'},\n",
    "    'Kelly Loeffler': {'committees': ('SCOM', 'SCWL'), 'party': 'Republican'},\n",
    "    'Ladda Tammy Duckworth': {'committees': ('SELC', 'SENE'), 'party': 'Democrat'},\n",
    "    'Lamar Alexander': {'committees': ('SESE', 'SEXA'), 'party': 'Republican'},\n",
    "    'Luther J Strange III': {'committees': ('SEXC', 'SFIC'), 'party': 'Republican'},\n",
    "    'Mark Begich': {'committees': ('SGAM', 'SGOA'), 'party': 'Democrat'},\n",
    "    'Mark E Udall': {'committees': ('SHHS', 'SINS'), 'party': 'Democrat'},\n",
    "    'Mark R Warner': {'committees': ('SJUD', 'SLAB'), 'party': 'Democrat'},\n",
    "    'Maria Cantwell': {'committees': ('SLGV', 'SLIC'), 'party': 'Democrat'},\n",
    "    'Michael B Enzi': {'committees': ('SNVR', 'SPAI'), 'party': 'Republican'},\n",
    "    'Michael D Crapo': {'committees': ('SPHL', 'SRED'), 'party': 'Republican'},\n",
    "    'Michael F Bennet': {'committees': ('SREV', 'STEL'), 'party': 'Democrat'},\n",
    "    'Mike Rounds': {'committees': ('STRN', 'SAGR'), 'party': 'Republican'},\n",
    "    'Orrin G Hatch': {'committees': ('SAPA', 'SAPB'), 'party': 'Republican'},\n",
    "    'Pat Roberts': {'committees': ('SCCL', 'SCCP'), 'party': 'Republican'},\n",
    "    'Patrick J Toomey': {'committees': ('SCHE', 'SCOA'), 'party': 'Republican'},\n",
    "    'Patty Murray': {'committees': ('SCOM', 'SCWL'), 'party': 'Democrat'},\n",
    "    'Rafael E Cruz': {'committees': ('SELC', 'SENE'), 'party': 'Republican'},\n",
    "    'Rand Paul': {'committees': ('SESE', 'SEXA'), 'party': 'Republican'},\n",
    "    'Rick Scott': {'committees': ('SEXC', 'SFIC'), 'party': 'Republican'},\n",
    "    'Robert J Portman': {'committees': ('SGAM', 'SGOA'), 'party': 'Republican'},\n",
    "    'Robert P Casey Jr.': {'committees': ('SHHS', 'SINS'), 'party': 'Democrat'},\n",
    "    'Robert P Corker Jr.': {'committees': ('SJUD', 'SLAB'), 'party': 'Republican'},\n",
    "    'Roger W Marshall': {'committees': ('SLGV', 'SLIC'), 'party': 'Republican'},\n",
    "    'Ron Johnson': {'committees': ('SNVR', 'SPAI'), 'party': 'Republican'},\n",
    "    'Roy Blunt': {'committees': ('SPHL', 'SRED'), 'party': 'Republican'},\n",
    "    'Saxby Chambliss': {'committees': ('SREV', 'STEL'), 'party': 'Republican'},\n",
    "    'Sheldon Whitehouse': {'committees': ('STRN', 'SAGR'), 'party': 'Democrat'},\n",
    "    'Shelley M Capito': {'committees': ('SAPA', 'SAPB'), 'party': 'Republican'},\n",
    "    'Steve Daines': {'committees': ('SCCL', 'SCCP'), 'party': 'Republican'},\n",
    "    'Susan M Collins': {'committees': ('SCHE', 'SCOA'), 'party': 'Republican'},\n",
    "    'Thad Cochran': {'committees': ('SCOM', 'SCWL'), 'party': 'Republican'},\n",
    "    'Thomas H Tuberville': {'committees': ('SELC', 'SENE'), 'party': 'Republican'},\n",
    "    'Thomas R Carper': {'committees': ('SESE', 'SEXA'), 'party': 'Democrat'},\n",
    "    'Thomas R Tillis': {'committees': ('SEXC', 'SFIC'), 'party': 'Republican'},\n",
    "    'Thomas Udall': {'committees': ('SGAM', 'SGOA'), 'party': 'Democrat'},\n",
    "    'Tina Smith': {'committees': ('SHHS', 'SINS'), 'party': 'Democrat'},\n",
    "    'Timothy M Kaine': {'committees': ('SJUD', 'SLAB'), 'party': 'Democrat'},\n",
    "    'Tom Coburn': {'committees': ('SLGV', 'SLIC'), 'party': 'Republican'},\n",
    "    'William Cassidy': {'committees': ('SNVR', 'SPAI'), 'party': 'Republican'},\n",
    "    'William F Hagerty IV': {'committees': ('SPHL', 'SRED'), 'party': 'Republican'}\n",
    "}\n"
   ]
  },
  {
   "cell_type": "code",
   "execution_count": 4,
   "id": "5faec003-154c-4e2c-be2e-5351a50c0ba8",
   "metadata": {},
   "outputs": [],
   "source": [
    "def get_committee(senator):\n",
    "    return committees.get(senator.strip())['committees']"
   ]
  },
  {
   "cell_type": "code",
   "execution_count": 5,
   "id": "12ba8896-1439-4cb6-9af8-5ee6cba8fe46",
   "metadata": {},
   "outputs": [],
   "source": [
    "def get_party(senator):\n",
    "    return committees.get(senator.strip())['party']"
   ]
  },
  {
   "cell_type": "code",
   "execution_count": 6,
   "id": "2a039a0c-b8b5-4ece-9edf-fe0b2de0b0bc",
   "metadata": {},
   "outputs": [],
   "source": [
    "df['Committee'] = df['Name'].apply(get_committee)\n",
    "df['Party'] = df['Name'].apply(get_party)"
   ]
  },
  {
   "cell_type": "code",
   "execution_count": 7,
   "id": "988eb04d-2bd7-4d8f-97cb-8639e6b842c8",
   "metadata": {},
   "outputs": [],
   "source": [
    "df.to_csv('SenatorCleaned_v2.csv', index = False)"
   ]
  }
 ],
 "metadata": {
  "kernelspec": {
   "display_name": "Python 3 (ipykernel)",
   "language": "python",
   "name": "python3"
  },
  "language_info": {
   "codemirror_mode": {
    "name": "ipython",
    "version": 3
   },
   "file_extension": ".py",
   "mimetype": "text/x-python",
   "name": "python",
   "nbconvert_exporter": "python",
   "pygments_lexer": "ipython3",
   "version": "3.11.7"
  }
 },
 "nbformat": 4,
 "nbformat_minor": 5
}
