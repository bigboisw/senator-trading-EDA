{
 "cells": [
  {
   "cell_type": "code",
   "execution_count": null,
   "id": "87c86d9c-d8d2-4344-bd74-f00a619ed587",
   "metadata": {},
   "outputs": [],
   "source": [
    "import pandas as pd\n",
    "import yfinance as yf\n",
    "\n",
    "# Load the CSV file\n",
    "df = pd.read_csv('SenatorData_OG.csv')\n",
    "\n",
    "# Function to get the sector for a given ticker\n",
    "def get_sector(ticker):\n",
    "    try:\n",
    "        stock = yf.Ticker(ticker)\n",
    "        return stock.info['sector']\n",
    "    except:\n",
    "        return 'Unknown'\n",
    "\n",
    "# Apply the function to the 'Ticker' column to create a new 'Sector' column\n",
    "df['Sector'] = df['Ticker'].apply(get_sector)\n",
    "\n",
    "# Save the DataFrame to a new CSV file\n",
    "df.to_csv('SenatorCleaned_v1.csv', index=False)"
   ]
  }
 ],
 "metadata": {
  "kernelspec": {
   "display_name": "Python 3 (ipykernel)",
   "language": "python",
   "name": "python3"
  },
  "language_info": {
   "codemirror_mode": {
    "name": "ipython",
    "version": 3
   },
   "file_extension": ".py",
   "mimetype": "text/x-python",
   "name": "python",
   "nbconvert_exporter": "python",
   "pygments_lexer": "ipython3",
   "version": "3.11.7"
  }
 },
 "nbformat": 4,
 "nbformat_minor": 5
}
